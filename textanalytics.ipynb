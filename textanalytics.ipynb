{
 "cells": [
  {
   "cell_type": "code",
   "execution_count": 2,
   "id": "014994e2-c24f-4713-8f1d-f06e087d5d39",
   "metadata": {},
   "outputs": [],
   "source": [
    "import re"
   ]
  },
  {
   "cell_type": "code",
   "execution_count": 12,
   "id": "11447ed4-b05c-44f9-9128-741ee638a0e7",
   "metadata": {},
   "outputs": [
    {
     "name": "stdout",
     "output_type": "stream",
     "text": [
      "Case Numbers: ['CASE-000001', 'CASE-000002', 'CASE-000003', 'CASE-000004', 'CASE-000005', 'CASE-000006', 'CASE-000007', 'CASE-000008', 'CASE-000009', 'CASE-000010', 'CASE-000011', 'CASE-000012', 'CASE-000013', 'CASE-000014', 'CASE-000015', 'CASE-000016', 'CASE-000017', 'CASE-000018', 'CASE-000019', 'CASE-000020', 'CASE-000021', 'CASE-000022', 'CASE-000023', 'CASE-000024', 'CASE-000025', 'CASE-000026', 'CASE-000027', 'CASE-000028', 'CASE-000029', 'CASE-000030', 'CASE-000031', 'CASE-000032', 'CASE-000033', 'CASE-000034', 'CASE-000035', 'CASE-000036', 'CASE-000037', 'CASE-000038', 'CASE-000039', 'CASE-000040', 'CASE-000041', 'CASE-000042', 'CASE-000043']\n",
      "\n",
      "\n",
      "Issues: ['Data Security Breach\\nCourt Ruling', 'Privacy Violation\\nCourt Ruling', 'Data Breach\\nCourt Ruling', 'Security Flaw\\nCourt Ruling', 'Unauthorized Data Sharing\\nCourt Ruling', 'Data Loss\\nCourt Ruling', 'Privacy Breach\\nCourt Ruling', 'Security Breach\\nCourt Ruling', 'Data Theft\\nCourt Ruling', 'Unauthorized Access\\nCourt Ruling', 'Security Oversight\\nCourt Ruling', 'Data Exposure\\nCourt Ruling', 'Inadequate Encryption\\nCourt Ruling', 'Data Mismanagement\\nCourt Ruling', 'Unauthorized Data Processing\\nCourt Ruling', 'Network Intrusion\\nCourt Ruling', 'Data Breach\\nCourt Ruling', 'Privacy Violation\\nCourt Ruling', 'Data Loss\\nCourt Ruling', 'Security Lapse\\nCourt Ruling', 'Unapproved Data Transfer\\nCourt Ruling', 'Data Exposure\\nCourt Ruling', 'Security Breach\\nCourt Ruling', 'Unauthorized Data Access\\nCourt Ruling', 'Data Management Failure\\nCourt Ruling', 'Privacy Violation\\nCourt Ruling', 'Data Security Lapse\\nCourt Ruling', 'Unauthorized Access\\nCourt Ruling', 'Data Misuse\\nCourt Ruling', 'Security Flaw\\nCourt Ruling', 'Privacy Breach\\nCourt Ruling', 'Data Breach\\nCourt Ruling', 'Unauthorized Data Access\\nCourt Ruling', 'Security Breach\\nCourt Ruling', 'Data Loss\\nCourt Ruling', 'Privacy Violation\\nCourt Ruling', 'Security Lapse\\nCourt Ruling', 'Data Mismanagement\\nCourt Ruling', 'Unauthorized Data Processing\\nCourt Ruling', 'Data Security Breach\\nCourt Ruling', 'Privacy Breach\\nCourt Ruling', 'Data Breach\\nCourt Ruling', 'Security Flaw\\nCourt Ruling']\n",
      "\n",
      "\n",
      "Court Rulings: ['The company failed to implement necessary data encryption measures.\\n', 'Unauthorized access to personal data led to privacy breaches.\\n', 'Inadequate firewall protections resulted in a data breach.\\n', 'Failure to patch known security vulnerabilities.\\n', 'Sharing user data without consent.\\n', 'Improper backup procedures led to significant data loss.\\n', 'Inadequate privacy policies allowed unauthorized access.\\n', 'Failure to secure cloud storage.\\n', 'Employee data stolen due to lack of proper access controls.\\n', 'Employees accessed data they were not authorized to view.\\n', 'Negligence in monitoring network security led to a breach.\\n', 'Exposing sensitive data on public forums.\\n', 'Failure to use encryption for sensitive data.\\n', 'Mismanagement of personal data resulting in unauthorized access.\\n', 'Processing personal data without user consent.\\n', 'Intrusion into the network due to insufficient security measures.\\n', 'Breach of data due to unpatched vulnerabilities.\\n', 'Unauthorized sharing of customer data.\\n', 'Significant data loss due to system failure.\\n', 'Security lapse due to outdated software.\\n', 'Transfer of personal data without appropriate approval.\\n', 'Sensitive data exposed through insufficient access controls.\\n', 'Breach due to improper implementation of security policies.\\n', 'Employees accessing restricted data without authorization.\\n', 'Failure in managing data resulted in privacy violations.\\n', 'Privacy violation due to lack of proper data handling procedures.\\n', 'Data security lapse due to unpatched vulnerabilities.\\n', 'Unauthorized access to confidential data.\\n', 'Misuse of personal data for unauthorized purposes.\\n', 'Security flaw due to inadequate encryption measures.\\n', 'Breach of privacy due to unsecure data storage.\\n', 'Data breach due to insufficient network security.\\n', 'Access to sensitive data without proper authorization.\\n', 'Breach due to failure in applying security patches.\\n', 'Loss of data due to inadequate backup procedures.\\n', 'Violation of privacy due to unauthorized data sharing.\\n', 'Security lapse due to outdated systems.\\n', 'Mismanagement of personal data resulting in unauthorized access.\\n', 'Processing data without consent.\\n', 'Security breach due to weak password policies.\\n', 'Breach of privacy due to inadequate data protection measures.\\n', 'Breach due to inadequate monitoring of security systems.\\n', 'Security flaws due to lack of regular updates.\\n']\n",
      "\n",
      "\n",
      "Penal Actions: ['Fined $200,000.\\n', 'Fined $150,000.\\n', 'Fined $300,000.\\n', 'Imprisonment of the responsible officer for 6 months.\\n', 'Fined $250,000.\\n', 'Fined $180,000.\\n', 'Fined $220,000.\\n', 'Imprisonment of the responsible officer for 1 year.\\n', 'Fined $275,000.\\n', 'Fined $160,000.\\n', 'Fined $300,000.\\n', 'Fined $210,000.\\n', 'Fined $250,000.\\n', 'Fined $180,000.\\n', 'Fined $220,000.\\n', 'Imprisonment of the responsible officer for 8 months.\\n', 'Fined $300,000.\\n', 'Fined $275,000.\\n', 'Fined $200,000.\\n', 'Fined $180,000.\\n', 'Fined $250,000.\\n', 'Imprisonment of the responsible officer for 1 year.\\n', 'Fined $220,000.\\n', 'Fined $160,000.\\n', 'Fined $210,000.\\n', 'Fined $250,000.\\n', 'Imprisonment of the responsible officer for 6 months.\\n', 'Fined $275,000.\\n', 'Fined $300,000.\\n', 'Fined $200,000.\\n', 'Fined $150,000.\\n', 'Imprisonment of the responsible officer for 1 year.\\n', 'Fined $220,000.\\n', 'Fined $250,000.\\n', 'Fined $180,000.\\n', 'Fined $275,000.\\n', 'Imprisonment of the responsible officer for 8 months.\\n', 'Fined $210,000.\\n', 'Fined $250,000.\\n', 'Fined $300,000.\\n', 'Fined $220,000.\\n', 'Fined $200,000.\\n', 'Imprisonment of the responsible officer for 1 year.\\n']\n",
      "\n",
      "\n",
      "Contact Names: ['Alice Johnson \\nemail', 'Bob Smith \\nemail', 'Carol White \\nemail', 'David Brown \\nemail', 'Emma Davis \\nemail', 'Frank Miller \\nemail', 'Grace Wilson \\nemail', 'Henry Moore \\nemail', 'Ivy Anderson \\nemail', 'Jack Thomas \\nemail', 'Karen Taylor \\nemail', 'Liam Harris \\nemail', 'Monica Clark \\nemail', 'Nathan Lewis \\nemail', 'Olivia Walker \\nemail', 'Paul Young \\nemail', 'Quinn Scott \\nemail', 'Rachel Adams \\nemail', 'Steve Baker \\nemail', 'Tina Carter \\nemail', 'Ursula Mitchell \\nemail', 'Victor Rodriguez \\nemail', 'Wendy Martinez \\nemail', 'Xavier Hernandez \\nemail', 'Yara Robinson \\nemail', 'Zachary James \\nemail', 'Alice Johnson \\nemail', 'Bob Smith \\nemail', 'Carol White \\nemail', 'David Brown \\nemail', 'Emma Davis \\nemail', 'Frank Miller \\nemail', 'Grace Wilson \\nemail', 'Henry Moore \\nemail', 'Ivy Anderson \\nemail', 'Jack Thomas \\nemail', 'Karen Taylor \\nemail', 'Liam Harris \\nemail', 'Monica Clark \\nemail', 'Nathan Lewis \\nemail', 'Olivia Walker \\nemail', 'Paul Young \\nemail', 'Quinn Scott \\nemail']\n",
      "\n",
      "\n",
      "\n",
      "Valid Emails: ['alice.johnson@example.com', 'carol.white@example.org', 'david.brown@example.com', 'emma.davis@example.net', 'frank.miller@example.org', 'grace.wilson@example.com', 'henry.moore@example.net', 'ivy.anderson@example.org', 'jack.thomas@example.com', 'karen.taylor@example.net', 'liam.harris@example.org', 'monica.clark@example.com', 'nathan.lewis@example.net', 'olivia.walker@example.org', 'paul.young@example.com', 'quinn.scott@example.net', 'rachel.adams@example.org', 'steve.baker@example.com', 'tina.carter@example.net', 'ursula.mitchell@example.org', 'victor.rodriguez@example.com', 'wendy.martinez@example.net', 'xavier.hernandez@example.org', 'yara.robinson@example.com', 'zachary.james@example.net', 'alice.johnson@example.com', 'bob.smith@example.net', 'carol.white@example.org', 'david.brown@example.com', 'emma.davis@example.net', 'frank.miller@example.org', 'grace.wilson@example.com', 'henry.moore@example.net', 'ivy.anderson@example.org', 'jack.thomas@example.com', 'karen.taylor@example.net', 'liam.harris@example.org', 'monica.clark@example.com', 'nathan.lewis@example.net', 'olivia.walker@example.org', 'paul.young@example.com', 'quinn.scott@example.net']\n",
      "\n",
      "\n",
      "\n",
      "Invalid Emails: []\n",
      "\n",
      "\n"
     ]
    }
   ],
   "source": [
    "import re\n",
    "\n",
    "# File containing regulatory compliance information\n",
    "file_path = \"C:/Users/RORONOA/Documents/regulatory_compliance.txt\"\n",
    "\n",
    "# Open the file and read the contents\n",
    "with open(file_path, \"r\") as file:\n",
    "    content = file.read()\n",
    "\n",
    "# Regular expression patterns\n",
    "case_pattern = r\"\\bCASE-\\d{6}\\b\"\n",
    "issue_pattern = r\"CASE-\\d{6}:\\s*([A-Za-z\\s]+)\"\n",
    "ruling_pattern = r\"Court Ruling:\\s*(.*?)(?=Penal Action:|Contact:|$)\"\n",
    "penal_pattern = r\"Penal Action:\\s*(.*?)(?=Contact:|$)\"\n",
    "#contact_name_pattern = r\"Contact:\\s*([A-Za-z\\s]+(\"\n",
    "\n",
    "contact_name_pattern = r\"Contact:\\s*([A-Za-z\\s]+)\"\n",
    "\n",
    "#add email_pattern\n",
    "email_pattern = r\"email_addrs:([a-zA-Z0-9._%+-]+@[a-zA-Z0-9.-]+\\.[a-zA-Z]{2,})\"\n",
    "\n",
    "\n",
    "# Extract information using regular expressions\n",
    "case_nums = re.findall(case_pattern, content)\n",
    "issues = re.findall(issue_pattern, content)\n",
    "court_rulings = re.findall(ruling_pattern, content, re.DOTALL)\n",
    "penal_actions = re.findall(penal_pattern, content, re.DOTALL)\n",
    "contact_names = re.findall(contact_name_pattern, content)\n",
    "#add email_addrs\n",
    "email_addrs = re.findall(email_pattern, content)\n",
    "\n",
    "def is_valid_email(email):\n",
    "    # Regular expression pattern for validating email addresses\n",
    "    email_validation_pattern = r\"^[a-zA-Z0-9._%+-]+@[a-zA-Z0-9.-]+\\.[a-zA-Z]{2,}$\"\n",
    "    return re.fullmatch(email_validation_pattern, email) is not None\n",
    "\n",
    "# Separate valid and invalid emails\n",
    "valid_emails = [email for email in email_addrs if is_valid_email(email)]\n",
    "invalid_emails = [email for email in email_addrs if not is_valid_email(email)]\n",
    "\n",
    "# Print extracted information with paragraph spacing\n",
    "print(\"Case Numbers:\", case_nums)\n",
    "print(\"\\n\")\n",
    "\n",
    "print(\"Issues:\", issues)\n",
    "print(\"\\n\")\n",
    "\n",
    "print(\"Court Rulings:\", court_rulings)\n",
    "print(\"\\n\")\n",
    "\n",
    "print(\"Penal Actions:\", penal_actions)\n",
    "print(\"\\n\")\n",
    "\n",
    "print(\"Contact Names:\", contact_names)\n",
    "print(\"\\n\")\n",
    "\n",
    "print(\"\\nValid Emails:\", valid_emails)\n",
    "print(\"\\n\")\n",
    "\n",
    "print(\"\\nInvalid Emails:\", invalid_emails)\n",
    "print(\"\\n\")"
   ]
  },
  {
   "cell_type": "code",
   "execution_count": null,
   "id": "cceb877c-fb0a-45ce-b258-0123d9af2bc3",
   "metadata": {},
   "outputs": [],
   "source": []
  },
  {
   "cell_type": "code",
   "execution_count": null,
   "id": "3f78081e-86e1-4fbb-8f1b-feffbd4e53fe",
   "metadata": {},
   "outputs": [],
   "source": []
  }
 ],
 "metadata": {
  "kernelspec": {
   "display_name": "Python 3 (ipykernel)",
   "language": "python",
   "name": "python3"
  },
  "language_info": {
   "codemirror_mode": {
    "name": "ipython",
    "version": 3
   },
   "file_extension": ".py",
   "mimetype": "text/x-python",
   "name": "python",
   "nbconvert_exporter": "python",
   "pygments_lexer": "ipython3",
   "version": "3.11.7"
  }
 },
 "nbformat": 4,
 "nbformat_minor": 5
}
